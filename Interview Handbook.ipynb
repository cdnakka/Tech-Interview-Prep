{
  "nbformat": 4,
  "nbformat_minor": 5,
  "metadata": {
    "kernelspec": {
      "display_name": "Python 3",
      "language": "python",
      "name": "python3"
    },
    "language_info": {
      "codemirror_mode": {
        "name": "ipython",
        "version": 3
      },
      "file_extension": ".py",
      "mimetype": "text/x-python",
      "name": "python",
      "nbconvert_exporter": "python",
      "pygments_lexer": "ipython3",
      "version": "3.8.0"
    },
    "colab": {
      "name": "Interview Handbook.ipynb",
      "provenance": [],
      "include_colab_link": true
    }
  },
  "cells": [
    {
      "cell_type": "markdown",
      "metadata": {
        "id": "view-in-github",
        "colab_type": "text"
      },
      "source": [
        "<a href=\"https://colab.research.google.com/github/cdnakka/Tech-Interview-Prep/blob/main/Interview%20Handbook.ipynb\" target=\"_parent\"><img src=\"https://colab.research.google.com/assets/colab-badge.svg\" alt=\"Open In Colab\"/></a>"
      ]
    },
    {
      "cell_type": "markdown",
      "metadata": {
        "id": "eb82f0fa"
      },
      "source": [
        "### DS, ML, Aptitude Preparation handbook"
      ],
      "id": "eb82f0fa"
    },
    {
      "cell_type": "markdown",
      "metadata": {
        "id": "gzhg8teD8kjQ"
      },
      "source": [
        "This repo is intended to document my DS learnings and have an easily referencable source that summarizes most of the topics that are covered in the interviews and the day-to-day life of a Data Scientist. <br>\n",
        "\n",
        "Syllabus: <br>\n",
        "1) Python DS and algorithmic style practice questions <br>\n",
        "2) SQL and Advanced SQL <br>\n",
        "3) Statistics and Probability theory <br>\n",
        "4) Machine Learning Theory <br>\n",
        "5) ML/Data product System Design <br>\n",
        "6) Building up project portfolios <br>\n",
        "7) Soft skills masterclass <br>\n"
      ],
      "id": "gzhg8teD8kjQ"
    },
    {
      "cell_type": "code",
      "metadata": {
        "id": "311dd530"
      },
      "source": [
        "import tensorflow as tf"
      ],
      "id": "311dd530",
      "execution_count": null,
      "outputs": []
    },
    {
      "cell_type": "code",
      "metadata": {
        "id": "80645dd0"
      },
      "source": [
        ""
      ],
      "id": "80645dd0",
      "execution_count": null,
      "outputs": []
    },
    {
      "cell_type": "code",
      "metadata": {
        "id": "PkB6h8gh8Z7E"
      },
      "source": [
        ""
      ],
      "id": "PkB6h8gh8Z7E",
      "execution_count": null,
      "outputs": []
    },
    {
      "cell_type": "code",
      "metadata": {
        "id": "6RwhF8wM8ao7"
      },
      "source": [
        ""
      ],
      "id": "6RwhF8wM8ao7",
      "execution_count": null,
      "outputs": []
    }
  ]
}