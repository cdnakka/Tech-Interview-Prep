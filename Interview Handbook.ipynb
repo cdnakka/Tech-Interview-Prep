{
 "cells": [
  {
   "cell_type": "markdown",
   "id": "eb82f0fa",
   "metadata": {},
   "source": [
    "### DS, ML, Aptitude Preparation handbook"
   ]
  },
  {
   "cell_type": "code",
   "execution_count": 1,
   "id": "311dd530",
   "metadata": {},
   "outputs": [],
   "source": [
    "import tensorflow as tf"
   ]
  },
  {
   "cell_type": "code",
   "execution_count": null,
   "id": "80645dd0",
   "metadata": {},
   "outputs": [],
   "source": []
  }
 ],
 "metadata": {
  "kernelspec": {
   "display_name": "Python 3",
   "language": "python",
   "name": "python3"
  },
  "language_info": {
   "codemirror_mode": {
    "name": "ipython",
    "version": 3
   },
   "file_extension": ".py",
   "mimetype": "text/x-python",
   "name": "python",
   "nbconvert_exporter": "python",
   "pygments_lexer": "ipython3",
   "version": "3.8.0"
  }
 },
 "nbformat": 4,
 "nbformat_minor": 5
}
