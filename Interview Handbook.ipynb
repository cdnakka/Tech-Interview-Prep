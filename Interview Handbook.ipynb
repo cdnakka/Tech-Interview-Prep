{
  "nbformat": 4,
  "nbformat_minor": 5,
  "metadata": {
    "kernelspec": {
      "display_name": "Python 3",
      "language": "python",
      "name": "python3"
    },
    "language_info": {
      "codemirror_mode": {
        "name": "ipython",
        "version": 3
      },
      "file_extension": ".py",
      "mimetype": "text/x-python",
      "name": "python",
      "nbconvert_exporter": "python",
      "pygments_lexer": "ipython3",
      "version": "3.8.0"
    },
    "colab": {
      "name": "Interview Handbook.ipynb",
      "provenance": [],
      "include_colab_link": true
    }
  },
  "cells": [
    {
      "cell_type": "markdown",
      "metadata": {
        "id": "view-in-github",
        "colab_type": "text"
      },
      "source": [
        "<a href=\"https://colab.research.google.com/github/cdnakka/Tech-Interview-Prep/blob/main/Interview%20Handbook.ipynb\" target=\"_parent\"><img src=\"https://colab.research.google.com/assets/colab-badge.svg\" alt=\"Open In Colab\"/></a>"
      ]
    },
    {
      "cell_type": "markdown",
      "metadata": {
        "id": "eb82f0fa"
      },
      "source": [
        "### DS, ML, Aptitude Preparation handbook"
      ],
      "id": "eb82f0fa"
    },
    {
      "cell_type": "code",
      "metadata": {
        "id": "311dd530"
      },
      "source": [
        "import tensorflow as tf"
      ],
      "id": "311dd530",
      "execution_count": null,
      "outputs": []
    },
    {
      "cell_type": "code",
      "metadata": {
        "id": "80645dd0"
      },
      "source": [
        ""
      ],
      "id": "80645dd0",
      "execution_count": null,
      "outputs": []
    }
  ]
}